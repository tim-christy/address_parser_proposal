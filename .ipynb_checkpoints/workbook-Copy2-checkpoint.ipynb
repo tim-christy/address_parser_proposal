{
 "cells": [
  {
   "cell_type": "markdown",
   "metadata": {},
   "source": [
    "# Data Source\n",
    "\n",
    "### [https://www.kaggle.com/hitesh05sr/new-york-city-311-service-request-dataset](https://www.kaggle.com/hitesh05sr/new-york-city-311-service-request-dataset)"
   ]
  },
  {
   "cell_type": "code",
   "execution_count": 1,
   "metadata": {},
   "outputs": [],
   "source": [
    "import pandas as pd\n",
    "import ipywidgets as wg\n",
    "from IPython.display import display\n"
   ]
  },
  {
   "cell_type": "code",
   "execution_count": 2,
   "metadata": {},
   "outputs": [],
   "source": [
    "df = pd.read_excel('addresses.xlsx')"
   ]
  },
  {
   "cell_type": "code",
   "execution_count": 3,
   "metadata": {},
   "outputs": [],
   "source": [
    "street_suffixes = ['PATH','BRIDGE', 'BAY', 'TECH','ALLEY','CENTER','PIERS','RDG','RIVER','HL', 'COVE','ROW','PIER','TNPK','FAIR','ISLAND','MALL','AVE','THRU','HILL','RIDGE','PKW','COURSE','PARKLANE','THRUWAY','WAY','HEIGHTS','SLIP','EXPY','ST','PLAZA','PKWY','GREEN','CAMP','TURNPIKE','BL','OVAL','LOOP','BLVD','DR','CIRCLE','WALK','HIGHWAY','CONCOURSE', 'SQUARE','CRESCENT', 'AVENUE', 'ROAD', 'STREET', 'BOULEVARD', 'PLACE', 'DRIVE', 'LANE', 'PARKWAY', 'PARK','EXPRESSWAY', 'TERRACE', 'RD', 'COURT']\n",
    "exceptions = [\"B'WAY\",'PCT','FDR','PPW', 'GCP','GREENWAY', 'CPW','KINGSBRIDGE','ESPLANADE','GRANDCONCOURSE','BQE','KINGSHIGWY','BOWERY','BROADWAY','BROADWAY']"
   ]
  },
  {
   "cell_type": "code",
   "execution_count": 4,
   "metadata": {},
   "outputs": [],
   "source": [
    "street_addresses = [x[0].split(' ') + x[1].split(' ') for x in df['Full Address'].str.split(',')]"
   ]
  },
  {
   "cell_type": "code",
   "execution_count": 5,
   "metadata": {
    "scrolled": true
   },
   "outputs": [
    {
     "data": {
      "application/vnd.jupyter.widget-view+json": {
       "model_id": "56e772a284ca4a46b98bc0aee48be827",
       "version_major": 2,
       "version_minor": 0
      },
      "text/plain": [
       "IntProgress(value=0, description='Parsing: ')"
      ]
     },
     "metadata": {},
     "output_type": "display_data"
    }
   ],
   "source": [
    "numbered_addresses = []\n",
    "unnumbered_addresses = []\n",
    "\n",
    "numbered_cities = []\n",
    "unnumbered_cities = []\n",
    "\n",
    "numbered_states = []\n",
    "unnumbered_states = []\n",
    "\n",
    "numbered_zipcodes = []\n",
    "unnumbered_zipcodes = []\n",
    "\n",
    "timer=0\n",
    "progress = wg.IntProgress(description= 'Parsing: ')\n",
    "progress.orientation = 'horizontal'\n",
    "display(progress)\n",
    "\n",
    "for row in street_addresses:\n",
    "    timer+=1\n",
    "    progress.value=(timer/len(street_addresses))*100\n",
    "    \n",
    "\n",
    "    \n",
    "    try:\n",
    "\n",
    "        num_split = row[0].split('-')\n",
    "        house_num = ''.join(num_split)\n",
    "        row[0] = str(int(house_num)) # throws error if not a number; in which case it has no house number\n",
    "        index=0\n",
    "        \n",
    "        \n",
    "        for element in row:\n",
    "            index+=1\n",
    "            if (element in street_suffixes) or (element in exceptions):\n",
    "                \n",
    "                if ((element=='BAY') or (element == 'ST')) and (index == 2): # If it starts with St. for Saint rather than street, pass\n",
    "                    pass\n",
    "                \n",
    "                \n",
    "                elif((element == 'AVENUE') and (index==2)): # Alphabet City streets\n",
    "                    numbered_addresses.append(' '.join(row[:index+1]))\n",
    "                    numbered_cities.append(row[index:])\n",
    "                    numbered_states.append(row[-2])\n",
    "                    numbered_zipcodes.append(row[-1])\n",
    "                    break\n",
    "\n",
    "                                          \n",
    "                else:\n",
    "                    numbered_addresses.append(' '.join(row[:index]))\n",
    "                    numbered_states.append(row[-2])\n",
    "                    numbered_zipcodes.append(row[-1])\n",
    "                    check = row[index:]\n",
    "                    if check[1]=='':\n",
    "                        numbered_cities.append(check[0])\n",
    "                    else:\n",
    "                        numbered_cities.append(' '.join(check[0:2]))\n",
    "                    break\n",
    "                 \n",
    "                \n",
    "                \n",
    "                \n",
    "    # Addresses without house or building numbers            \n",
    "    except:\n",
    "        pass\n",
    "#         print(row)\n",
    "#         index=0\n",
    "#         for element in row:\n",
    "            \n",
    "#             index+=1\n",
    "#             if (element in street_suffixes) or (element in exceptions):\n",
    "                \n",
    "#                 if ((element=='BAY') or (element == 'ST')) and (index == 0): # If it starts with St. for Saint rather than street, pass\n",
    "#                     break\n",
    "                \n",
    "                \n",
    "#                 elif((element == 'AVENUE') and (index==1)): # Alphabet City streets\n",
    "#                     unnumbered_addresses.append(' '.join(row[:index+1]))\n",
    "#                     unnumbered_cities.append(row[index+1])\n",
    "#                     unnumbered_states.append(row[-2])\n",
    "#                     unnumbered_zipcodes.append(row[-1])\n",
    "#                     break\n",
    "                    \n",
    "#                 else:\n",
    "                    \n",
    "#                     unnumbered_addresses.append(' '.join(row[:index]))\n",
    "#                     unnumbered_states.append(row[-2])\n",
    "#                     unnumbered_zipcodes.append(row[-1])\n",
    "                    \n",
    "#                     check = row[index:]\n",
    "#                     check_index=-1\n",
    "#                     for item in check:\n",
    "#                         check_index+=1\n",
    "#                         if item == '':\n",
    "#                             unnumbered_cities.append(check[:check_index])\n",
    "                    \n",
    "                        \n",
    "                    \n",
    "#                     break\n",
    "                    \n",
    "                \n",
    "\n",
    "                \n",
    "    \n"
   ]
  },
  {
   "cell_type": "code",
   "execution_count": 6,
   "metadata": {},
   "outputs": [
    {
     "data": {
      "text/plain": [
       "104242"
      ]
     },
     "execution_count": 6,
     "metadata": {},
     "output_type": "execute_result"
    }
   ],
   "source": [
    "len(numbered_addresses)"
   ]
  },
  {
   "cell_type": "code",
   "execution_count": 7,
   "metadata": {},
   "outputs": [
    {
     "data": {
      "text/plain": [
       "104242"
      ]
     },
     "execution_count": 7,
     "metadata": {},
     "output_type": "execute_result"
    }
   ],
   "source": [
    "len(numbered_cities)"
   ]
  },
  {
   "cell_type": "code",
   "execution_count": 8,
   "metadata": {},
   "outputs": [
    {
     "data": {
      "text/plain": [
       "104242"
      ]
     },
     "execution_count": 8,
     "metadata": {},
     "output_type": "execute_result"
    }
   ],
   "source": [
    "len(numbered_states)"
   ]
  },
  {
   "cell_type": "code",
   "execution_count": 9,
   "metadata": {},
   "outputs": [
    {
     "data": {
      "text/plain": [
       "104242"
      ]
     },
     "execution_count": 9,
     "metadata": {},
     "output_type": "execute_result"
    }
   ],
   "source": [
    "len(numbered_zipcodes)"
   ]
  },
  {
   "cell_type": "code",
   "execution_count": 10,
   "metadata": {},
   "outputs": [],
   "source": [
    "clean_dict = {'address': numbered_addresses, 'city': numbered_cities, 'state': numbered_states, 'zip': numbered_zipcodes}"
   ]
  },
  {
   "cell_type": "code",
   "execution_count": 11,
   "metadata": {},
   "outputs": [],
   "source": [
    "clean_df = pd.DataFrame(clean_dict)"
   ]
  },
  {
   "cell_type": "code",
   "execution_count": 12,
   "metadata": {},
   "outputs": [
    {
     "data": {
      "text/html": [
       "<div>\n",
       "<style scoped>\n",
       "    .dataframe tbody tr th:only-of-type {\n",
       "        vertical-align: middle;\n",
       "    }\n",
       "\n",
       "    .dataframe tbody tr th {\n",
       "        vertical-align: top;\n",
       "    }\n",
       "\n",
       "    .dataframe thead th {\n",
       "        text-align: right;\n",
       "    }\n",
       "</style>\n",
       "<table border=\"1\" class=\"dataframe\">\n",
       "  <thead>\n",
       "    <tr style=\"text-align: right;\">\n",
       "      <th></th>\n",
       "      <th>address</th>\n",
       "      <th>city</th>\n",
       "      <th>state</th>\n",
       "      <th>zip</th>\n",
       "    </tr>\n",
       "  </thead>\n",
       "  <tbody>\n",
       "    <tr>\n",
       "      <th>0</th>\n",
       "      <td>71 VERMILYEA AVENUE</td>\n",
       "      <td>NEW YORK</td>\n",
       "      <td>NY</td>\n",
       "      <td>10034</td>\n",
       "    </tr>\n",
       "    <tr>\n",
       "      <th>1</th>\n",
       "      <td>2707 23 AVENUE</td>\n",
       "      <td>ASTORIA</td>\n",
       "      <td>NY</td>\n",
       "      <td>11105</td>\n",
       "    </tr>\n",
       "    <tr>\n",
       "      <th>2</th>\n",
       "      <td>2897 VALENTINE AVENUE</td>\n",
       "      <td>BRONX</td>\n",
       "      <td>NY</td>\n",
       "      <td>10458</td>\n",
       "    </tr>\n",
       "    <tr>\n",
       "      <th>3</th>\n",
       "      <td>2940 BAISLEY AVENUE</td>\n",
       "      <td>BRONX</td>\n",
       "      <td>NY</td>\n",
       "      <td>10461</td>\n",
       "    </tr>\n",
       "    <tr>\n",
       "      <th>4</th>\n",
       "      <td>8714 57 ROAD</td>\n",
       "      <td>ELMHURST</td>\n",
       "      <td>NY</td>\n",
       "      <td>11373</td>\n",
       "    </tr>\n",
       "    <tr>\n",
       "      <th>...</th>\n",
       "      <td>...</td>\n",
       "      <td>...</td>\n",
       "      <td>...</td>\n",
       "      <td>...</td>\n",
       "    </tr>\n",
       "    <tr>\n",
       "      <th>104237</th>\n",
       "      <td>420 EAST 86 STREET</td>\n",
       "      <td>NEW YORK</td>\n",
       "      <td>NY</td>\n",
       "      <td>10028</td>\n",
       "    </tr>\n",
       "    <tr>\n",
       "      <th>104238</th>\n",
       "      <td>415 EAST 86 STREET</td>\n",
       "      <td>NEW YORK</td>\n",
       "      <td>NY</td>\n",
       "      <td>10028</td>\n",
       "    </tr>\n",
       "    <tr>\n",
       "      <th>104239</th>\n",
       "      <td>7703 79 PLACE</td>\n",
       "      <td>RIDGEWOOD</td>\n",
       "      <td>NY</td>\n",
       "      <td>11385</td>\n",
       "    </tr>\n",
       "    <tr>\n",
       "      <th>104240</th>\n",
       "      <td>81 HESTER STREET</td>\n",
       "      <td>NEW YORK</td>\n",
       "      <td>NY</td>\n",
       "      <td>10002</td>\n",
       "    </tr>\n",
       "    <tr>\n",
       "      <th>104241</th>\n",
       "      <td>10017 87 AVENUE</td>\n",
       "      <td>RICHMOND HILL</td>\n",
       "      <td>NY</td>\n",
       "      <td>11418</td>\n",
       "    </tr>\n",
       "  </tbody>\n",
       "</table>\n",
       "<p>104242 rows × 4 columns</p>\n",
       "</div>"
      ],
      "text/plain": [
       "                      address           city state    zip\n",
       "0         71 VERMILYEA AVENUE       NEW YORK    NY  10034\n",
       "1              2707 23 AVENUE        ASTORIA    NY  11105\n",
       "2       2897 VALENTINE AVENUE          BRONX    NY  10458\n",
       "3         2940 BAISLEY AVENUE          BRONX    NY  10461\n",
       "4                8714 57 ROAD       ELMHURST    NY  11373\n",
       "...                       ...            ...   ...    ...\n",
       "104237     420 EAST 86 STREET       NEW YORK    NY  10028\n",
       "104238     415 EAST 86 STREET       NEW YORK    NY  10028\n",
       "104239          7703 79 PLACE      RIDGEWOOD    NY  11385\n",
       "104240       81 HESTER STREET       NEW YORK    NY  10002\n",
       "104241        10017 87 AVENUE  RICHMOND HILL    NY  11418\n",
       "\n",
       "[104242 rows x 4 columns]"
      ]
     },
     "execution_count": 12,
     "metadata": {},
     "output_type": "execute_result"
    }
   ],
   "source": [
    "clean_df"
   ]
  },
  {
   "cell_type": "markdown",
   "metadata": {},
   "source": [
    "# To do:\n",
    "\n",
    "- Fill in street suffixes (1ST, 2ND, 3RD, etc)\n",
    "- Finish unnumbered sorting\n",
    "- to_excel\n",
    "- write it up"
   ]
  },
  {
   "cell_type": "code",
   "execution_count": null,
   "metadata": {},
   "outputs": [],
   "source": []
  }
 ],
 "metadata": {
  "kernelspec": {
   "display_name": "Python 3",
   "language": "python",
   "name": "python3"
  },
  "language_info": {
   "codemirror_mode": {
    "name": "ipython",
    "version": 3
   },
   "file_extension": ".py",
   "mimetype": "text/x-python",
   "name": "python",
   "nbconvert_exporter": "python",
   "pygments_lexer": "ipython3",
   "version": "3.7.4"
  }
 },
 "nbformat": 4,
 "nbformat_minor": 2
}
